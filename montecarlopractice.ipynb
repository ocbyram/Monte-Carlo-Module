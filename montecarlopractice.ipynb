{
 "cells": [
  {
   "cell_type": "code",
   "execution_count": 20,
   "id": "8d2957aa-e8a6-4136-9612-540bb1d9d5c7",
   "metadata": {},
   "outputs": [],
   "source": [
    "import pandas as pd\n",
    "import numpy as np\n",
    "import random\n",
    "from collections import Counter"
   ]
  },
  {
   "cell_type": "code",
   "execution_count": 21,
   "id": "8878587a-3760-4d7d-baa7-bd110edc5dcc",
   "metadata": {},
   "outputs": [],
   "source": [
    "class Die: \n",
    "    def __init__(self,faces):\n",
    "        self.faces = faces\n",
    "        if not isinstance(self.faces, np.ndarray):\n",
    "            raise TypeError\n",
    "        if not (len(self.faces) == len(set(self.faces))) == True:\n",
    "            raise ValueError\n",
    "        for each in self.faces:\n",
    "            weight = 1.0\n",
    "            self.weight = weight\n",
    "        self.df = pd.DataFrame({'Weight':weight},index=faces)\n",
    "            \n",
    "    def change_weight(self,face_val, new_weight):\n",
    "        if face_val not in self.df.index:\n",
    "            raise IndexError\n",
    "        try:\n",
    "            float(new_weight)\n",
    "        except:\n",
    "            raise TypeError\n",
    "        self.df.loc[face_val, 'Weight'] = new_weight\n",
    "\n",
    "    def roll(self, rolls = 1):\n",
    "        sample = self.df.sample(n=rolls, replace=True, weights='Weight').index.tolist()\n",
    "        return sample\n",
    "        \n",
    "    def state(self):\n",
    "        return self.df.copy()"
   ]
  },
  {
   "cell_type": "code",
   "execution_count": 22,
   "id": "6a6c4984-bebf-4d4a-932a-5fb2f8aca4c5",
   "metadata": {},
   "outputs": [],
   "source": [
    "\n",
    "class Game:\n",
    "\n",
    "    def __init__(self, sim_faces):\n",
    "        self.sim_faces = sim_faces\n",
    "            \n",
    "    def play(self, num_rolls):\n",
    "        outcomes = {i: die.roll(num_rolls) for i, die in enumerate(self.sim_faces)}\n",
    "        self.game_df = pd.DataFrame(outcomes)\n",
    "        self.game_df.index.name = \"Roll Number\"\n",
    "        \n",
    "    def show(self, form = 'wide'):\n",
    "        if form != 'wide' and form != 'narrow':\n",
    "            raise ValueError\n",
    "        if form == 'wide':\n",
    "            return self.game_df.copy()\n",
    "        elif form == 'narrow':\n",
    "            self.narrow_df = self.game_df.melt(\n",
    "                var_name = 'Die Number',\n",
    "                value_name = 'Value',\n",
    "                ignore_index = False)\n",
    "            self.narrow_df.set_index(['Die Number'], append=True, inplace=True)\n",
    "            return self.narrow_df\n",
    "        else:\n",
    "            raise ValueError"
   ]
  },
  {
   "cell_type": "code",
   "execution_count": 19,
   "id": "f5306bd2-2e6a-4125-b369-a18c4a2da2f0",
   "metadata": {},
   "outputs": [],
   "source": [
    "class Analyzer:\n",
    "    \n",
    "    def __init__(self, game_object):\n",
    "        if not isinstance(game_object, Game):\n",
    "            raise ValueError\n",
    "        self.game_object = game_object\n",
    "        self.roll_result = game_object.show()\n",
    "\n",
    "    def jackpot(self):\n",
    "        jackpots = self.roll_result.apply(lambda row: row.nunique() == 1, axis=1).sum()\n",
    "        return int(jackpots)\n",
    "\n",
    "    def face_counts(self):\n",
    "        counts = self.roll_result.apply(lambda row: row.value_counts(), axis=1)\n",
    "        counts.fillna(0, inplace=True)\n",
    "        return counts\n",
    "        \n",
    "    def combos(self):\n",
    "        cols = self.roll_result.columns.difference(['id']).tolist()\n",
    "        self.df = self.roll_result.groupby(cols, sort=True).size().reset_index(name='Counts')\n",
    "        self.df=self.df.set_index(self.df.columns.difference(['Counts'],sort=True).tolist())\n",
    "        return self.df\n",
    "        \n",
    "    def permutations(self):\n",
    "        self.tups = []\n",
    "        self.tup_list = []\n",
    "        for index, row in self.roll_result.iterrows():\n",
    "            self.tups.append(tuple(row))\n",
    "        counts = Counter(self.tups)\n",
    "        self.df = pd.DataFrame(counts.items(), columns=['Permutation', 'Count'])\n",
    "        tup_len = len(self.tups[0])\n",
    "        for i in range(0,tup_len):\n",
    "            self.tup_list.append(i)\n",
    "        self.df[self.tup_list] = pd.DataFrame(self.df['Permutation'].tolist(), index=self.df.index)\n",
    "        self.df.drop('Permutation', axis=1, inplace=True)\n",
    "        self.df=self.df.set_index(self.df.columns.difference(['Count'],sort=False).tolist())\n",
    "        return self.df"
   ]
  },
  {
   "cell_type": "code",
   "execution_count": null,
   "id": "91d31229-3cef-45db-b5df-9a29cfd5a364",
   "metadata": {},
   "outputs": [],
   "source": []
  },
  {
   "cell_type": "code",
   "execution_count": null,
   "id": "64221cb6-99d4-45e6-b4f0-975688f28fd2",
   "metadata": {},
   "outputs": [],
   "source": []
  },
  {
   "cell_type": "code",
   "execution_count": null,
   "id": "60371e6d-87cb-4939-acc3-86dc6f6091fb",
   "metadata": {},
   "outputs": [],
   "source": []
  }
 ],
 "metadata": {
  "kernelspec": {
   "display_name": "Python 3 (ipykernel)",
   "language": "python",
   "name": "python3"
  },
  "language_info": {
   "codemirror_mode": {
    "name": "ipython",
    "version": 3
   },
   "file_extension": ".py",
   "mimetype": "text/x-python",
   "name": "python",
   "nbconvert_exporter": "python",
   "pygments_lexer": "ipython3",
   "version": "3.12.5"
  }
 },
 "nbformat": 4,
 "nbformat_minor": 5
}
