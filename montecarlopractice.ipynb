{
 "cells": [
  {
   "cell_type": "code",
   "execution_count": 97,
   "id": "8d2957aa-e8a6-4136-9612-540bb1d9d5c7",
   "metadata": {},
   "outputs": [],
   "source": [
    "import pandas as pd\n",
    "import numpy as np\n",
    "import random"
   ]
  },
  {
   "cell_type": "code",
   "execution_count": 179,
   "id": "8878587a-3760-4d7d-baa7-bd110edc5dcc",
   "metadata": {},
   "outputs": [],
   "source": [
    "class Die(): \n",
    "    \n",
    "    def __init__(self,faces):\n",
    "        if not isinstance(faces, np.ndarray):\n",
    "            raise TypeError\n",
    "        else:\n",
    "            if not (len(faces) == len(set(faces))) == True:\n",
    "                raise ValueError\n",
    "            else:\n",
    "                for each in faces:\n",
    "                    weight = 1.0\n",
    "                    self.weight = weight\n",
    "            self.df = pd.DataFrame({'Weight':weight},index=faces)\n",
    "            \n",
    "    def change_weight(self,face_val, new_weight):\n",
    "        if face_val not in faces:\n",
    "            raise IndexError\n",
    "        else:\n",
    "            try:\n",
    "                float(new_weight)\n",
    "                self.df.loc[face_val, 'Weight'] = new_weight\n",
    "            except:\n",
    "                raise TypeError\n",
    "\n",
    "    def roll(self, rolls = 1):\n",
    "        weights = self.df[\"Weight\"].values\n",
    "        probabilities = weights / np.sum(weights)\n",
    "        return list(np.random.choice(self.df.index, size = rolls, replace=True, p = probabilities))\n",
    "    def state(self):\n",
    "        return(self.df)"
   ]
  },
  {
   "cell_type": "code",
   "execution_count": 180,
   "id": "7cab34d4-07df-4e5c-81f2-2ddce51f3593",
   "metadata": {},
   "outputs": [
    {
     "data": {
      "text/html": [
       "<div>\n",
       "<style scoped>\n",
       "    .dataframe tbody tr th:only-of-type {\n",
       "        vertical-align: middle;\n",
       "    }\n",
       "\n",
       "    .dataframe tbody tr th {\n",
       "        vertical-align: top;\n",
       "    }\n",
       "\n",
       "    .dataframe thead th {\n",
       "        text-align: right;\n",
       "    }\n",
       "</style>\n",
       "<table border=\"1\" class=\"dataframe\">\n",
       "  <thead>\n",
       "    <tr style=\"text-align: right;\">\n",
       "      <th></th>\n",
       "      <th>Weight</th>\n",
       "    </tr>\n",
       "  </thead>\n",
       "  <tbody>\n",
       "    <tr>\n",
       "      <th>W</th>\n",
       "      <td>1.0</td>\n",
       "    </tr>\n",
       "    <tr>\n",
       "      <th>2</th>\n",
       "      <td>1.0</td>\n",
       "    </tr>\n",
       "    <tr>\n",
       "      <th>5</th>\n",
       "      <td>1.0</td>\n",
       "    </tr>\n",
       "  </tbody>\n",
       "</table>\n",
       "</div>"
      ],
      "text/plain": [
       "   Weight\n",
       "W     1.0\n",
       "2     1.0\n",
       "5     1.0"
      ]
     },
     "execution_count": 180,
     "metadata": {},
     "output_type": "execute_result"
    }
   ],
   "source": [
    "faces = np.array(['W',2,5])\n",
    "obj = Die(faces)\n",
    "obj.df"
   ]
  },
  {
   "cell_type": "code",
   "execution_count": 181,
   "id": "e3af616b-3771-477b-84af-e8dae774e688",
   "metadata": {},
   "outputs": [
    {
     "data": {
      "text/html": [
       "<div>\n",
       "<style scoped>\n",
       "    .dataframe tbody tr th:only-of-type {\n",
       "        vertical-align: middle;\n",
       "    }\n",
       "\n",
       "    .dataframe tbody tr th {\n",
       "        vertical-align: top;\n",
       "    }\n",
       "\n",
       "    .dataframe thead th {\n",
       "        text-align: right;\n",
       "    }\n",
       "</style>\n",
       "<table border=\"1\" class=\"dataframe\">\n",
       "  <thead>\n",
       "    <tr style=\"text-align: right;\">\n",
       "      <th></th>\n",
       "      <th>Weight</th>\n",
       "    </tr>\n",
       "  </thead>\n",
       "  <tbody>\n",
       "    <tr>\n",
       "      <th>W</th>\n",
       "      <td>5.0</td>\n",
       "    </tr>\n",
       "    <tr>\n",
       "      <th>2</th>\n",
       "      <td>1.0</td>\n",
       "    </tr>\n",
       "    <tr>\n",
       "      <th>5</th>\n",
       "      <td>1.0</td>\n",
       "    </tr>\n",
       "  </tbody>\n",
       "</table>\n",
       "</div>"
      ],
      "text/plain": [
       "   Weight\n",
       "W     5.0\n",
       "2     1.0\n",
       "5     1.0"
      ]
     },
     "execution_count": 181,
     "metadata": {},
     "output_type": "execute_result"
    }
   ],
   "source": [
    "obj.change_weight('W',5)\n",
    "obj.state()"
   ]
  },
  {
   "cell_type": "code",
   "execution_count": 182,
   "id": "8c756471-a5b5-412e-bd0f-9bd968a9491f",
   "metadata": {},
   "outputs": [
    {
     "data": {
      "text/plain": [
       "['W', 'W', '5', 'W', 'W', 'W', 'W', 'W', 'W', '2']"
      ]
     },
     "execution_count": 182,
     "metadata": {},
     "output_type": "execute_result"
    }
   ],
   "source": [
    "obj.roll(rolls=10)"
   ]
  },
  {
   "cell_type": "code",
   "execution_count": null,
   "id": "6a6c4984-bebf-4d4a-932a-5fb2f8aca4c5",
   "metadata": {},
   "outputs": [],
   "source": []
  }
 ],
 "metadata": {
  "kernelspec": {
   "display_name": "Python 3 (ipykernel)",
   "language": "python",
   "name": "python3"
  },
  "language_info": {
   "codemirror_mode": {
    "name": "ipython",
    "version": 3
   },
   "file_extension": ".py",
   "mimetype": "text/x-python",
   "name": "python",
   "nbconvert_exporter": "python",
   "pygments_lexer": "ipython3",
   "version": "3.12.5"
  }
 },
 "nbformat": 4,
 "nbformat_minor": 5
}
