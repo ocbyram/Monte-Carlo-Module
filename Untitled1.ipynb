{
 "cells": [
  {
   "cell_type": "code",
   "execution_count": 14,
   "id": "e3669d87-c11a-48d2-9655-aab55b7f04c2",
   "metadata": {},
   "outputs": [],
   "source": [
    "import numpy as np"
   ]
  },
  {
   "cell_type": "code",
   "execution_count": 27,
   "id": "6bcb6352-bf91-4cf4-92b3-11fc115d2882",
   "metadata": {},
   "outputs": [],
   "source": [
    "class Die(): \n",
    "    \n",
    "    def __init__(self,faces):\n",
    "        if not isinstance(faces, np.array):\n",
    "            raise TypeError\n",
    "        else:\n",
    "            if not (len(faces) == len(set(faces))) == True:\n",
    "                raise ValueError\n",
    "            else:\n",
    "                for each in faces:\n",
    "                    weight = 1.0\n",
    "                df = pd.DataFrame({'Faces':faces, 'Weight':weight})\n",
    "                df.set_index('Faces', inplace=True)\n",
    "                self.df = df\n",
    "                \n",
    "    def tryit(self):\n",
    "        print(df)"
   ]
  },
  {
   "cell_type": "code",
   "execution_count": 37,
   "id": "8b70d7d1-fbe0-401b-b851-151c4b70960a",
   "metadata": {},
   "outputs": [],
   "source": [
    "faces = np.array([1,2,5])\n",
    "if not isinstance(faces, np.ndarray):\n",
    "    print(TypeError)\n",
    "else:\n",
    "    if not (len(faces) == len(set(faces))) == True:\n",
    "        raise ValueError\n",
    "    else:\n",
    "        for each in faces:\n",
    "            "
   ]
  },
  {
   "cell_type": "code",
   "execution_count": null,
   "id": "ceb59f66-0a82-421b-86d7-c15e5c20e6cc",
   "metadata": {},
   "outputs": [],
   "source": []
  },
  {
   "cell_type": "code",
   "execution_count": null,
   "id": "7dd44fe7-e4ee-47bc-8fbb-9bf99db4b68a",
   "metadata": {},
   "outputs": [],
   "source": []
  }
 ],
 "metadata": {
  "kernelspec": {
   "display_name": "Python 3 (ipykernel)",
   "language": "python",
   "name": "python3"
  },
  "language_info": {
   "codemirror_mode": {
    "name": "ipython",
    "version": 3
   },
   "file_extension": ".py",
   "mimetype": "text/x-python",
   "name": "python",
   "nbconvert_exporter": "python",
   "pygments_lexer": "ipython3",
   "version": "3.12.5"
  }
 },
 "nbformat": 4,
 "nbformat_minor": 5
}
